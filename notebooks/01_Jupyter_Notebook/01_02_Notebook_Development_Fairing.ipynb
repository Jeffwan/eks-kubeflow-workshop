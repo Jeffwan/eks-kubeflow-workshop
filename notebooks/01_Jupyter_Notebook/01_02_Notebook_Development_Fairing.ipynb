{
 "cells": [
  {
   "cell_type": "markdown",
   "metadata": {},
   "source": [
    "## Pre-Instruction\n",
    "\n",
    "Check [REAME.md](https://github.com/aws-samples/eks-kubeflow-workshop/blob/master/notebooks/02_Fairing/README.md) before you move to 02_Fairing labs."
   ]
  }
 ],
 "metadata": {
  "kernelspec": {
   "display_name": "Python 3",
   "language": "python",
   "name": "python3"
  },
  "language_info": {
   "codemirror_mode": {
    "name": "ipython",
    "version": 3
   },
   "file_extension": ".py",
   "mimetype": "text/x-python",
   "name": "python",
   "nbconvert_exporter": "python",
   "pygments_lexer": "ipython3",
   "version": "3.6.7"
  }
 },
 "nbformat": 4,
 "nbformat_minor": 2
}
