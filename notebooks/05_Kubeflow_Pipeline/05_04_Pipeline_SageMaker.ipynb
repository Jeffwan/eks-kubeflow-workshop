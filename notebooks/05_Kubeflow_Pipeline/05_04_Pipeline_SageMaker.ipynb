{
 "cells": [
  {
   "cell_type": "markdown",
   "metadata": {},
   "source": [
    "## SageMaker Pipeleine Example"
   ]
  },
  {
   "cell_type": "markdown",
   "metadata": {},
   "source": [
    "Please check [documentation](https://github.com/kubeflow/pipelines/tree/master/samples/contrib/aws-samples/mnist-kmeans-sagemaker) to copy dataset to your s3 buckets.\n",
    "\n"
   ]
  },
  {
   "cell_type": "markdown",
   "metadata": {},
   "source": [
    "### Download Pipeline Examples"
   ]
  },
  {
   "cell_type": "code",
   "execution_count": 14,
   "metadata": {},
   "outputs": [
    {
     "name": "stdout",
     "output_type": "stream",
     "text": [
      "Cloning into 'pipelines'...\n",
      "remote: Enumerating objects: 19790, done.\u001b[K\n",
      "remote: Total 19790 (delta 0), reused 0 (delta 0), pack-reused 19790\u001b[K\n",
      "Receiving objects: 100% (19790/19790), 18.59 MiB | 26.81 MiB/s, done.\n",
      "Resolving deltas: 100% (10726/10726), done.\n"
     ]
    }
   ],
   "source": [
    "!git clone https://github.com/kubeflow/pipelines.git"
   ]
  },
  {
   "cell_type": "markdown",
   "metadata": {},
   "source": [
    "### Compiling the pipeline template\n",
    "\n",
    "dsl-compile --py <python_pipeline_file> --output <output.tag.gz>"
   ]
  },
  {
   "cell_type": "code",
   "execution_count": 21,
   "metadata": {},
   "outputs": [
    {
     "name": "stdout",
     "output_type": "stream",
     "text": [
      "Traceback (most recent call last):\r\n",
      "  File \"/opt/conda/bin/dsl-compile\", line 10, in <module>\r\n",
      "    sys.exit(main())\r\n",
      "  File \"/opt/conda/lib/python3.6/site-packages/kfp/compiler/main.py\", line 117, in main\r\n",
      "    compile_pyfile(args.py, args.function, args.output, not args.disable_type_check)\r\n",
      "  File \"/opt/conda/lib/python3.6/site-packages/kfp/compiler/main.py\", line 105, in compile_pyfile\r\n",
      "    __import__(os.path.splitext(filename)[0])\r\n",
      "  File \"/home/jovyan/kubeflow-eks-workshop/notebooks/05_Kubeflow_Pipeline/mnist-classification-pipeline.py\", line 8, in <module>\r\n",
      "    sagemaker_hpo_op = components.load_component_from_file('../../../../components/aws/sagemaker/hyperparameter_tuning/component.yaml')\r\n",
      "  File \"/opt/conda/lib/python3.6/site-packages/kfp/components/_components.py\", line 105, in load_component_from_file\r\n",
      "    with open(filename, 'rb') as component_stream:\r\n",
      "FileNotFoundError: [Errno 2] No such file or directory: '../../../../components/aws/sagemaker/hyperparameter_tuning/component.yaml'\r\n"
     ]
    }
   ],
   "source": [
    "!cd ./pipelines/samples/contrib/aws-samples/mnist-kmeans-sagemaker/\n",
    "\n",
    "!dsl-compile --py mnist-classification-pipeline.py --output mnist-classification-pipeline.tar.gz"
   ]
  },
  {
   "cell_type": "markdown",
   "metadata": {},
   "source": []
  },
  {
   "cell_type": "markdown",
   "metadata": {},
   "source": [
    "\n"
   ]
  },
  {
   "cell_type": "code",
   "execution_count": 12,
   "metadata": {},
   "outputs": [
    {
     "name": "stdout",
     "output_type": "stream",
     "text": [
      "Requirement already satisfied: kubernetes in /opt/conda/lib/python3.6/site-packages (9.0.0)\n",
      "Requirement already satisfied: urllib3>=1.23 in /opt/conda/lib/python3.6/site-packages (from kubernetes) (1.24.2)\n",
      "Requirement already satisfied: setuptools>=21.0.0 in /opt/conda/lib/python3.6/site-packages (from kubernetes) (40.9.0)\n",
      "Requirement already satisfied: python-dateutil>=2.5.3 in /opt/conda/lib/python3.6/site-packages (from kubernetes) (2.8.0)\n",
      "Requirement already satisfied: websocket-client!=0.40.0,!=0.41.*,!=0.42.*,>=0.32.0 in /opt/conda/lib/python3.6/site-packages (from kubernetes) (0.56.0)\n",
      "Requirement already satisfied: pyyaml>=3.12 in /opt/conda/lib/python3.6/site-packages (from kubernetes) (5.1)\n",
      "Requirement already satisfied: google-auth>=1.0.1 in /opt/conda/lib/python3.6/site-packages (from kubernetes) (1.6.3)\n",
      "Requirement already satisfied: certifi>=14.05.14 in /opt/conda/lib/python3.6/site-packages (from kubernetes) (2019.3.9)\n",
      "Requirement already satisfied: requests-oauthlib in /opt/conda/lib/python3.6/site-packages (from kubernetes) (1.2.0)\n",
      "Requirement already satisfied: six>=1.9.0 in /opt/conda/lib/python3.6/site-packages (from kubernetes) (1.12.0)\n",
      "Requirement already satisfied: requests in /opt/conda/lib/python3.6/site-packages (from kubernetes) (2.21.0)\n",
      "Requirement already satisfied: pyasn1-modules>=0.2.1 in /opt/conda/lib/python3.6/site-packages (from google-auth>=1.0.1->kubernetes) (0.2.4)\n",
      "Requirement already satisfied: rsa>=3.1.4 in /opt/conda/lib/python3.6/site-packages (from google-auth>=1.0.1->kubernetes) (4.0)\n",
      "Requirement already satisfied: cachetools>=2.0.0 in /opt/conda/lib/python3.6/site-packages (from google-auth>=1.0.1->kubernetes) (3.1.0)\n",
      "Requirement already satisfied: oauthlib>=3.0.0 in /opt/conda/lib/python3.6/site-packages (from requests-oauthlib->kubernetes) (3.0.1)\n",
      "Requirement already satisfied: chardet<3.1.0,>=3.0.2 in /opt/conda/lib/python3.6/site-packages (from requests->kubernetes) (3.0.4)\n",
      "Requirement already satisfied: idna<2.9,>=2.5 in /opt/conda/lib/python3.6/site-packages (from requests->kubernetes) (2.8)\n",
      "Requirement already satisfied: pyasn1<0.5.0,>=0.4.1 in /opt/conda/lib/python3.6/site-packages (from pyasn1-modules>=0.2.1->google-auth>=1.0.1->kubernetes) (0.4.5)\n",
      "\u001b[33mYou are using pip version 19.0.1, however version 19.2.1 is available.\n",
      "You should consider upgrading via the 'pip install --upgrade pip' command.\u001b[0m\n"
     ]
    }
   ],
   "source": [
    "!pip install kubernetes"
   ]
  },
  {
   "cell_type": "code",
   "execution_count": null,
   "metadata": {},
   "outputs": [],
   "source": []
  },
  {
   "cell_type": "code",
   "execution_count": null,
   "metadata": {},
   "outputs": [],
   "source": []
  },
  {
   "cell_type": "code",
   "execution_count": null,
   "metadata": {},
   "outputs": [],
   "source": []
  }
 ],
 "metadata": {
  "kernelspec": {
   "display_name": "Python 3",
   "language": "python",
   "name": "python3"
  },
  "language_info": {
   "codemirror_mode": {
    "name": "ipython",
    "version": 3
   },
   "file_extension": ".py",
   "mimetype": "text/x-python",
   "name": "python",
   "nbconvert_exporter": "python",
   "pygments_lexer": "ipython3",
   "version": "3.6.7"
  }
 },
 "nbformat": 4,
 "nbformat_minor": 2
}
