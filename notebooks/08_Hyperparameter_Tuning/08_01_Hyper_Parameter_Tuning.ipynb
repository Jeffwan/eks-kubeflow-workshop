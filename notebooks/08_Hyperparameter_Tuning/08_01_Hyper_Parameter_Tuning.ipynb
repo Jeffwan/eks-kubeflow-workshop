{
 "cells": [
  {
   "cell_type": "markdown",
   "metadata": {},
   "source": [
    "# HyperParameter Tuning"
   ]
  },
  {
   "cell_type": "markdown",
   "metadata": {},
   "source": [
    "Hyperparameter optimization or tuning chooses a set of optimal hyperparameters, parameters that control the learning process, for a learning algorithm. The set of hyperparameters yield an optimal model that minimizes a pre-defined loss function on given test data. \n",
    "\n",
    "There are many approaches for HPO: \n",
    "- grid search\n",
    "- random search\n",
    "- bayesian optimization\n",
    "- gradient-based optimization\n",
    "- evolutionary optimization\n",
    "- population based training\n"
   ]
  },
  {
   "cell_type": "markdown",
   "metadata": {},
   "source": [
    "## Katib"
   ]
  },
  {
   "cell_type": "markdown",
   "metadata": {},
   "source": [
    "The [Katib](https://github.com/kubeflow/katib) project is inspired by Google vizier. Katib is a scalable and flexible hyperparameter tuning framework and is tightly integrated with Kubernetes. It does not depend on any specific deep learning framework (such as TensorFlow, MXNet, or PyTorch).\n",
    "\n",
    "\n",
    "* Two versions: v1alpha1 and v1alpha2\n",
    "* Across both versions, there is support for random search, grid search, hyperband, bayesian optimization and NAS\n",
    "* One metric is the objective metric, can have a goal for optimization value (no multimetric optimization)\n",
    "* Int, double, discrete, and categorical parameter ranges, no options for scaling type (unless that is what “step” means)\n",
    "* Option for early stopping (not part of the StudyJob (HPO) job request parameters)\n"
   ]
  },
  {
   "cell_type": "code",
   "execution_count": null,
   "metadata": {},
   "outputs": [],
   "source": [
    "In current Kubeflow version, katib is installed by default. "
   ]
  },
  {
   "cell_type": "markdown",
   "metadata": {},
   "source": [
    "### Examples "
   ]
  },
  {
   "cell_type": "markdown",
   "metadata": {},
   "source": [
    "We will run three Katib Experiments using `normal job`, `TFjob` and `PyTorchJob` "
   ]
  },
  {
   "cell_type": "markdown",
   "metadata": {},
   "source": [
    "### Random algorithm"
   ]
  },
  {
   "cell_type": "code",
   "execution_count": null,
   "metadata": {},
   "outputs": [],
   "source": [
    "!kubectl create -f https://raw.githubusercontent.com/kubeflow/katib/master/examples/v1alpha2/random-example.yaml"
   ]
  },
  {
   "cell_type": "markdown",
   "metadata": {},
   "source": [
    "If you download the file and check manifest, you will see\n",
    "\n",
    "\n",
    "```yaml\n",
    "parameters:\n",
    "- name: --lr\n",
    "  parameterType: double\n",
    "  feasibleSpace:\n",
    "    min: \"0.01\"\n",
    "    max: \"0.03\"\n",
    "- name: --num-layers\n",
    "  parameterType: int\n",
    "  feasibleSpace:\n",
    "    min: \"2\"\n",
    "    max: \"5\"\n",
    "- name: --optimizer\n",
    "  parameterType: categorical\n",
    "  feasibleSpace:\n",
    "    list:\n",
    "    - sgd\n",
    "    - adam\n",
    "    - ftrl\n",
    "```\n",
    "\n",
    "\n",
    "This job generates 3 hyperparameters, parameter type and range are also listed.\n",
    "\n",
    "* --lr (Learning Rate) - type: double\n",
    "* --num-layers (Number of NN Layer) - type: int\n",
    "* --optimizer (optimizer) - type: categorical"
   ]
  },
  {
   "cell_type": "markdown",
   "metadata": {},
   "source": [
    "The demo should start an experiment and run three jobs with different parameters. You can run following command to check job status.\n",
    "\n",
    "When the `spec.Status.Condition` changes to Completed, the experiment is finished.\n"
   ]
  },
  {
   "cell_type": "code",
   "execution_count": null,
   "metadata": {},
   "outputs": [],
   "source": [
    "!kubectl -n kubeflow describe experiment random-example"
   ]
  },
  {
   "cell_type": "markdown",
   "metadata": {},
   "source": [
    "### Tensorflow Operator"
   ]
  },
  {
   "cell_type": "markdown",
   "metadata": {},
   "source": [
    "You can monitor your results in the Katib UI. If you installed Kubeflow using the deployment guide, you can access the Katib UI at `https://<your kubeflow endpoint>/katib/`"
   ]
  },
  {
   "cell_type": "code",
   "execution_count": null,
   "metadata": {},
   "outputs": [],
   "source": []
  },
  {
   "cell_type": "code",
   "execution_count": null,
   "metadata": {},
   "outputs": [],
   "source": []
  },
  {
   "cell_type": "markdown",
   "metadata": {},
   "source": [
    "### PyTorch Operator"
   ]
  },
  {
   "cell_type": "code",
   "execution_count": 7,
   "metadata": {},
   "outputs": [
    {
     "name": "stdout",
     "output_type": "stream",
     "text": [
      "Error from server (Forbidden): error when creating \"https://raw.githubusercontent.com/kubeflow/katib/master/examples/v1alpha2/pytorchjob-example.yaml\": experiments.kubeflow.org is forbidden: User \"system:serviceaccount:jiaxin:default-editor\" cannot create resource \"experiments\" in API group \"kubeflow.org\" in the namespace \"kubeflow\"\r\n"
     ]
    }
   ],
   "source": [
    "!kubectl create -f https://raw.githubusercontent.com/kubeflow/katib/master/examples/v1alpha2/pytorchjob-example.yaml"
   ]
  },
  {
   "cell_type": "code",
   "execution_count": null,
   "metadata": {},
   "outputs": [],
   "source": [
    "!kubectl -n kubeflow describe experiment pytorchjob-example\n"
   ]
  }
 ],
 "metadata": {
  "kernelspec": {
   "display_name": "Python 3",
   "language": "python",
   "name": "python3"
  },
  "language_info": {
   "codemirror_mode": {
    "name": "ipython",
    "version": 3
   },
   "file_extension": ".py",
   "mimetype": "text/x-python",
   "name": "python",
   "nbconvert_exporter": "python",
   "pygments_lexer": "ipython3",
   "version": "3.6.7"
  }
 },
 "nbformat": 4,
 "nbformat_minor": 2
}
