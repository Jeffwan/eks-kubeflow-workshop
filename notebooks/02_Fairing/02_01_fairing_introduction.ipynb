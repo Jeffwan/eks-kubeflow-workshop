{
 "cells": [
  {
   "cell_type": "markdown",
   "metadata": {},
   "source": [
    "# Kubeflow Fairing Introduction\n",
    "\n",
    "Kubeflow Fairing is a Python package that streamlines the process of `building`, `training`, and `deploying` machine learning (ML) models in a hybrid cloud environment. By using Kubeflow Fairing and adding a few lines of code, you can run your ML training job locally or in the cloud, directly from Python code or a Jupyter notebook. After your training job is complete, you can use Kubeflow Fairing to deploy your trained model as a prediction endpoint.\n",
    "\n",
    "\n",
    "\n",
    "# How does Kubeflow Fairing work\n",
    "\n",
    "Kubeflow Fairing \n",
    "1. Packages your Jupyter notebook, Python function, or Python file as a Docker image\n",
    "2. Deploys and runs the training job on Kubeflow or AI Platform. \n",
    "3. Deploy your trained model as a prediction endpoint on Kubeflow after your training job is complete.\n",
    "\n",
    "\n",
    "# Goals of Kubeflow Fairing project\n",
    "\n",
    "- Easily package ML training jobs: Enable ML practitioners to easily package their ML model training code, and their code’s dependencies, as a Docker image.\n",
    "- Easily train ML models in a hybrid cloud environment: Provide a high-level API for training ML models to make it easy to run training jobs in the cloud, without needing to understand the underlying infrastructure.\n",
    "- Streamline the process of deploying a trained model: Make it easy for ML practitioners to deploy trained ML models to a hybrid cloud environment.\n",
    "\n"
   ]
  },
  {
   "cell_type": "code",
   "execution_count": null,
   "metadata": {},
   "outputs": [],
   "source": [
    "# Option 1: Install Fairing Python SDK from python repository\n",
    "!pip install fairing"
   ]
  },
  {
   "cell_type": "code",
   "execution_count": null,
   "metadata": {},
   "outputs": [],
   "source": [
    "# Option 2: Install latest Fairing from github repository (If you'd like to try new features)\n",
    "!git clone https://github.com/kubeflow/fairing \n",
    "!pip install --upgrade fairing/"
   ]
  },
  {
   "cell_type": "code",
   "execution_count": null,
   "metadata": {},
   "outputs": [],
   "source": [
    "# check fairing is installed \n",
    "!pip show fairing"
   ]
  },
  {
   "cell_type": "markdown",
   "metadata": {},
   "source": [
    "## Basic Example"
   ]
  },
  {
   "cell_type": "code",
   "execution_count": 8,
   "metadata": {},
   "outputs": [],
   "source": [
    "import os\n",
    "import sys\n",
    "import fairing\n",
    "import tensorflow as tf\n",
    "\n",
    "def train():\n",
    "    if 'HOSTNAME' in os.environ:\n",
    "        hostname = tf.constant(os.environ['HOSTNAME'])\n",
    "    else:\n",
    "        hostname = \"fake_host_name\"\n",
    "    sess = tf.Session()\n",
    "    print('Hostname: ', sess.run(hostname).decode('utf-8'))"
   ]
  },
  {
   "cell_type": "code",
   "execution_count": 9,
   "metadata": {},
   "outputs": [
    {
     "name": "stdout",
     "output_type": "stream",
     "text": [
      "Hostname:  test-rbac-0\n"
     ]
    }
   ],
   "source": [
    "# Local training for development\n",
    "train()"
   ]
  },
  {
   "cell_type": "code",
   "execution_count": null,
   "metadata": {},
   "outputs": [],
   "source": [
    "# Remote Training\n",
    "remote_train = fairing.config.fn(train)\n",
    "remote_train()"
   ]
  },
  {
   "cell_type": "markdown",
   "metadata": {},
   "source": [
    "## DockerHub Example"
   ]
  },
  {
   "cell_type": "code",
   "execution_count": null,
   "metadata": {},
   "outputs": [],
   "source": [
    "# Make sure authenticate your DockerHub Registry"
   ]
  },
  {
   "cell_type": "code",
   "execution_count": null,
   "metadata": {},
   "outputs": [],
   "source": [
    "import os\n",
    "import fairing\n",
    "import tensorflow as tf\n",
    "\n",
    "# Setting up DockerHub container repositories for storing output containers\n",
    "DOCKERHUB_USERNAME = 'seedjeffwan'\n",
    "DOCKER_REGISTRY = '{}'.format(DOCKERHUB_USERNAME)\n",
    "fairing.config.set_builder('append', base_image='tensorflow/tensorflow:1.14.0-py3', registry=DOCKER_REGISTRY, push=True)\n",
    "fairing.config.set_deployer('job')\n",
    "\n",
    "def train():\n",
    "    if 'HOSTNAME' in os.environ:\n",
    "        hostname = tf.constant(os.environ['HOSTNAME'])\n",
    "    else:\n",
    "        hostname = \"fake_host_name\"\n",
    "    sess = tf.Session()\n",
    "    print('Hostname: ', sess.run(hostname).decode('utf-8'))\n",
    "\n",
    "if __name__ == '__main__':\n",
    "    remote_train = fairing.config.fn(train)\n",
    "    remote_train()"
   ]
  },
  {
   "cell_type": "markdown",
   "metadata": {},
   "source": [
    "## ECR Example"
   ]
  },
  {
   "cell_type": "code",
   "execution_count": null,
   "metadata": {},
   "outputs": [],
   "source": [
    "# Authenticate ECR\n",
    "# Please copy output of this command and run. \n",
    "\n",
    "!aws ecr get-login --no-include-email"
   ]
  },
  {
   "cell_type": "code",
   "execution_count": null,
   "metadata": {},
   "outputs": [],
   "source": [
    "# Don't forget to give a `!` before your command to make interpreter understand it's a shell command\n",
    "\n",
    "\n",
    "# After you run the command, you will see \n",
    "# -------\n",
    "# WARNING! Using --password via the CLI is insecure. Use --password-stdin.\n",
    "# Login Succeeded\n",
    "# -------"
   ]
  },
  {
   "cell_type": "code",
   "execution_count": null,
   "metadata": {},
   "outputs": [],
   "source": [
    "import os\n",
    "import sys\n",
    "import fairing\n",
    "import tensorflow as tf\n",
    "\n",
    "\n",
    "# Setting up AWS Elastic Container Registry (ECR) for storing output containers\n",
    "# You can use any docker container registry istead of ECR\n",
    "AWS_ACCOUNT_ID=fairing.cloud.aws.guess_account_id()\n",
    "AWS_REGION='us-west-2'\n",
    "DOCKER_REGISTRY = '{}.dkr.ecr.{}.amazonaws.com'.format(AWS_ACCOUNT_ID, AWS_REGION)\n",
    "PY_VERSION = \".\".join([str(x) for x in sys.version_info[0:3]])\n",
    "BASE_IMAGE = 'python:{}'.format(PY_VERSION)\n",
    "\n",
    "fairing.config.set_builder('append', base_image='tensorflow/tensorflow:1.14.0-py3', registry=DOCKER_REGISTRY, push=True)\n",
    "fairing.config.set_deployer('job')\n",
    "\n",
    "def train():\n",
    "    if 'HOSTNAME' in os.environ:\n",
    "        hostname = tf.constant(os.environ['HOSTNAME'])\n",
    "    else:\n",
    "        hostname = \"fake_host_name\"\n",
    "    sess = tf.Session()\n",
    "    print('Hostname: ', sess.run(hostname).decode('utf-8'))\n",
    "    \n",
    "if __name__ == '__main__':\n",
    "    remote_train = fairing.config.fn(train)\n",
    "    remote_train()"
   ]
  }
 ],
 "metadata": {
  "kernelspec": {
   "display_name": "Python 3",
   "language": "python",
   "name": "python3"
  },
  "language_info": {
   "codemirror_mode": {
    "name": "ipython",
    "version": 3
   },
   "file_extension": ".py",
   "mimetype": "text/x-python",
   "name": "python",
   "nbconvert_exporter": "python",
   "pygments_lexer": "ipython3",
   "version": "3.6.7"
  }
 },
 "nbformat": 4,
 "nbformat_minor": 2
}
